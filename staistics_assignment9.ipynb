{
 "cells": [
  {
   "cell_type": "markdown",
   "id": "061e366e-1dc6-4688-918d-0335c3ef3274",
   "metadata": {},
   "source": [
    "# Statistics"
   ]
  },
  {
   "cell_type": "markdown",
   "id": "fabb207b-863f-446b-aaa8-dc3c09de22df",
   "metadata": {},
   "source": [
    "# Ans1"
   ]
  },
  {
   "cell_type": "markdown",
   "id": "4587b967-7fcd-418a-9e37-12577d61546a",
   "metadata": {},
   "source": [
    "Probability mass function gives the propability that a discrete random variable is exactly equal to certain values."
   ]
  },
  {
   "cell_type": "markdown",
   "id": "f347c9c8-d74b-4225-a407-71d90c250a03",
   "metadata": {},
   "source": [
    "for example fair_six sided die ,the pmf for getting 3 is 1/6."
   ]
  },
  {
   "cell_type": "raw",
   "id": "849037cc-df3e-4056-b5a7-86c4aca674d8",
   "metadata": {},
   "source": [
    "Probability distribution function  desdcribe the  likelihood of continuous random variable falling within a particular range."
   ]
  },
  {
   "cell_type": "markdown",
   "id": "b7fa5044-d66c-48d5-bfc6-836775749d2e",
   "metadata": {},
   "source": [
    "example For a standard normal distribution, the PDF at a specific point, like 0, doesn't give a probability but indicates the likelihood density."
   ]
  },
  {
   "cell_type": "markdown",
   "id": "e8c120fe-a0a8-4bfd-a09c-3c36e3e38325",
   "metadata": {},
   "source": [
    "likelihood refer to the probabiliy or chance that the particular event or outcomes will occurs"
   ]
  },
  {
   "cell_type": "markdown",
   "id": "c4eec4fd-28c9-41c9-a910-0fae6f561a0b",
   "metadata": {},
   "source": [
    "# Ans2-"
   ]
  },
  {
   "cell_type": "markdown",
   "id": "de1f6d22-42f0-429e-8a49-7220db3a913c",
   "metadata": {},
   "source": [
    "A Cumulative Density Function (CDF) gives the probability that a random variable takes a value less than or equal to a given point. "
   ]
  },
  {
   "cell_type": "markdown",
   "id": "3070cda2-f4d1-4431-bf05-faba859f0351",
   "metadata": {},
   "source": [
    "It provides a cumulative view of the probability distribution."
   ]
  },
  {
   "cell_type": "raw",
   "id": "e9fb3ae2-fb27-4a65-bb5e-2827cc557421",
   "metadata": {},
   "source": [
    "Consider a six-sided die. The CDF for rolling a number less than or equal to 3 is the sum of the probabilities for getting 1, 2, and 3.\n"
   ]
  },
  {
   "cell_type": "markdown",
   "id": "a9318015-aeb9-44e4-aae1-fb6e2287812b",
   "metadata": {},
   "source": [
    "P(x<=3)=P(X=1)+P(X=2)+P(X=3)"
   ]
  },
  {
   "cell_type": "markdown",
   "id": "b10a07b4-579d-457b-9c31-684319ca71f9",
   "metadata": {},
   "source": [
    "IF probability for rolling each number of 1/6 then"
   ]
  },
  {
   "cell_type": "markdown",
   "id": "e086cad7-6f69-4225-b943-773f347da674",
   "metadata": {},
   "source": [
    "P(X<=3)=1/6+1/6+1/6"
   ]
  },
  {
   "cell_type": "markdown",
   "id": "a4115c85-d514-4550-bb15-ac6283352266",
   "metadata": {},
   "source": [
    "P(X<=3)=1/2"
   ]
  },
  {
   "cell_type": "markdown",
   "id": "63292e7e-df1c-4d80-806b-758fc1faf9f5",
   "metadata": {},
   "source": [
    "So, the CDF at 3 is 1/2 indicating a 50% cumulative probability of rolling a 3 or less"
   ]
  },
  {
   "cell_type": "markdown",
   "id": "640c1827-871a-41fa-a149-5e74247a2ab9",
   "metadata": {},
   "source": [
    "real life example-Imagine you are waiting for a bus, and the waiting time follows a certain distribution. The CDF tells you the probability that the bus will arrive within a specific time. For instance, if the CDF at 10 minutes is 0.8, it means there's an 80% chance that the bus will arrive within the first 10 minutes of waiting."
   ]
  },
  {
   "cell_type": "markdown",
   "id": "772cb60b-6c8b-4ecd-99b8-68dbd131424f",
   "metadata": {},
   "source": [
    "# Ans3-"
   ]
  },
  {
   "cell_type": "markdown",
   "id": "85f1964f-cc12-46c3-ab5b-d8b88377e26c",
   "metadata": {},
   "source": [
    "\n",
    "Examples of Situations for Normal Distribution:"
   ]
  },
  {
   "cell_type": "markdown",
   "id": "813bf5a2-c4cf-4dbe-bff7-8c1ed2e1f283",
   "metadata": {},
   "source": [
    "-Test Scores"
   ]
  },
  {
   "cell_type": "markdown",
   "id": "fa4541bb-dca5-43dd-bed3-cbcfe11a61c5",
   "metadata": {},
   "source": [
    "-Height of Individuals"
   ]
  },
  {
   "cell_type": "markdown",
   "id": "7e22c013-395e-4ea3-9691-d580c97a4584",
   "metadata": {},
   "source": [
    "-IQ Score"
   ]
  },
  {
   "cell_type": "markdown",
   "id": "4d9af04c-1399-4754-9773-031fbf740114",
   "metadata": {},
   "source": [
    "-Financial Returns"
   ]
  },
  {
   "cell_type": "markdown",
   "id": "9f468783-cbcb-402f-8c82-51ed07d8f6f3",
   "metadata": {},
   "source": [
    "How Parameters Relate to Distribution Shape:"
   ]
  },
  {
   "cell_type": "markdown",
   "id": "4ff933a2-d008-4936-8da6-2bbcf42345ae",
   "metadata": {},
   "source": [
    "mean-The mean locates the center of the distribution. Shifting the mean to the right or left moves the entire distribution along the horizontal axis."
   ]
  },
  {
   "cell_type": "markdown",
   "id": "78e1c758-3f18-4702-9480-8908742d2261",
   "metadata": {},
   "source": [
    "std-The standard deviation controls the spread of the distribution. A larger standard deviation results in a flatter and wider curve, while a smaller standard deviation produces a taller and narrower curve"
   ]
  },
  {
   "cell_type": "markdown",
   "id": "45c87552-9840-4859-b8ab-4797ac3a826d",
   "metadata": {},
   "source": [
    "# Ans4-"
   ]
  },
  {
   "cell_type": "markdown",
   "id": "88b40fc0-c36d-4272-bf51-b2c06344c763",
   "metadata": {},
   "source": [
    "importance of the normal distribution-\n",
    "\n",
    "Statistical Inference:Many statistical methods and hypothesis tests assume a normal distribution."
   ]
  },
  {
   "cell_type": "markdown",
   "id": "c8fe0627-ae55-4165-9c6c-25fa9de6d0fd",
   "metadata": {},
   "source": [
    "Central Limit Theorem:\n",
    "\n",
    "The Central Limit Theorem states that the distribution of the sum (or average) of a large number of independent, identically distributed random variables approaches a normal distribution. This theorem is foundational in statistics."
   ]
  },
  {
   "cell_type": "markdown",
   "id": "8a46c9ea-d958-4ec2-b279-e11e773ba9f6",
   "metadata": {},
   "source": [
    "Predictive Modeling:\n",
    "\n",
    "In various fields, including finance and economics, normal distribution is used to model uncertainties and predict future outcomes."
   ]
  },
  {
   "cell_type": "markdown",
   "id": "242eb640-52ef-4d8b-8643-7b74c74aaf46",
   "metadata": {},
   "source": [
    "Quality Control:\n",
    "\n",
    "Processes in manufacturing or service industries that adhere to the normal distribution are easier to control and monitor. Deviations from the norm may indicate issues that need attention."
   ]
  },
  {
   "cell_type": "markdown",
   "id": "b4275774-191a-4421-9c4a-cbd25d00ab65",
   "metadata": {},
   "source": [
    "Real life example of the normal distribution:"
   ]
  },
  {
   "cell_type": "markdown",
   "id": "6b701994-5f60-47b4-b93f-91d4ce654d90",
   "metadata": {},
   "source": [
    "-Test Scores\n",
    "\n",
    "-Height of Individuals\n",
    "\n",
    "-IQ Score\n",
    "\n",
    "-Financial Returns\n",
    "\n",
    "-blood pressure"
   ]
  },
  {
   "cell_type": "markdown",
   "id": "0fd79f60-95a8-466b-b7a5-525975901323",
   "metadata": {},
   "source": [
    "# Ans5-"
   ]
  },
  {
   "cell_type": "markdown",
   "id": "556f6cca-9a94-4c63-a022-48f1bb8bb010",
   "metadata": {},
   "source": [
    "Consider a single coin flip, where getting heads is a success (1) and tails is a failure (0). The Bernoulli distribution models the probability of getting heads."
   ]
  },
  {
   "cell_type": "markdown",
   "id": "09137316-c58e-48a3-93f2-1adf6f1d5f22",
   "metadata": {},
   "source": [
    "Difference between Bernoulli and Binomial Distribution:\n",
    "The Bernoulli distribution describes a single trial, while the Binomial distribution models the number of successes in a fixed number of independent Bernoulli trials"
   ]
  },
  {
   "cell_type": "markdown",
   "id": "9b2819ef-a4a1-4123-97e5-f2f6c535d23a",
   "metadata": {},
   "source": [
    "# Ans6-"
   ]
  },
  {
   "cell_type": "markdown",
   "id": "7198e363-b1fd-436b-9156-5ad93b5288d8",
   "metadata": {},
   "source": [
    "Z=X-mean/std \n",
    "\n",
    "Z=60-50/10\n",
    "\n",
    "Z=1"
   ]
  },
  {
   "cell_type": "markdown",
   "id": "36cd2d84-5576-42de-8590-7e75b43ea0f0",
   "metadata": {},
   "source": [
    "So, the probability that a randomly selected observation will be greater than 60 is approximately 0.8413 or 84.13%"
   ]
  },
  {
   "cell_type": "markdown",
   "id": "388e911c-36ec-4f1b-b42e-7e024feffe2d",
   "metadata": {},
   "source": [
    "# Ans7"
   ]
  },
  {
   "cell_type": "markdown",
   "id": "045ea221-9957-4e16-b739-b133c8bfc044",
   "metadata": {},
   "source": [
    "Consider rolling a fair six-sided die. If each outcome (1, 2, 3, 4, 5, 6) has an equal chance, the distribution of the die roll is uniform.this is called uniform distribution."
   ]
  },
  {
   "cell_type": "markdown",
   "id": "d90d1465-a01e-4861-89a6-1a40e75ab1e8",
   "metadata": {},
   "source": [
    "# Ans8-"
   ]
  },
  {
   "cell_type": "markdown",
   "id": "fabb6eff-dbd5-41e0-99c5-25a0e1d6cf75",
   "metadata": {},
   "source": [
    "Z Score:The Z score, or standard score, measures how many standard deviations a data point is from the mean in a normal distribution."
   ]
  },
  {
   "cell_type": "markdown",
   "id": "594508ab-e5c1-4e20-b187-2110170324fd",
   "metadata": {},
   "source": [
    "Importance of Z Score:\n",
    "\n",
    "Z scores allow standardization and comparison of data across different scales, facilitating statistical analysis and interpretation. They help identify outliers and assess the relative position of a data point within a distribution."
   ]
  },
  {
   "cell_type": "markdown",
   "id": "2a17ab6d-e750-4fbb-8c53-cd8a536e7df1",
   "metadata": {},
   "source": [
    "# Ans9-"
   ]
  },
  {
   "cell_type": "markdown",
   "id": "b76f18b0-6b4e-40bc-acb8-557f653b93cf",
   "metadata": {},
   "source": [
    "Central Limit Theorem (CLT):\n",
    "The Central Limit Theorem states that the distribution of the sum (or average) of a large number of independent, identically distributed random variables approaches a normal distribution, regardless of the original distribution"
   ]
  },
  {
   "cell_type": "markdown",
   "id": "779f78fd-f569-4460-be7e-1da4b0ca460a",
   "metadata": {},
   "source": [
    "\n",
    "\n",
    "Significance of the Central Limit Theorem:\n",
    "The CLT is crucial in statistics as it allows the application of normal distribution-based methods to analyze diverse datasets, even when the individual data may not follow a normal distribution. It forms the basis for many statistical inferences and hypothesis tests."
   ]
  },
  {
   "cell_type": "markdown",
   "id": "4c7aacfe-2ae5-432d-aa3b-91e887ef57ca",
   "metadata": {},
   "source": [
    "# Ans10-"
   ]
  },
  {
   "cell_type": "markdown",
   "id": "909d0065-f4c0-44c9-ac3b-8e5fc6ab321e",
   "metadata": {},
   "source": [
    "Assumptions of the Central Limit Theorem:\n",
    "\n",
    "Independence:The random variables being averaged or summed must be independent of each other.\n",
    "\n",
    "Sample Size:The sample size should be sufficiently large. While there is no strict rule, a common guideline is that the sample size should be at least 30.\n",
    "\n",
    "Identically Distributed:The random variables should be identically distributed, meaning they have the same probability distribution.\n",
    "\n",
    "\n",
    "Finite Variance:The random variables must have a finite variance. If the variance is infinite, the CLT may not hold."
   ]
  },
  {
   "cell_type": "code",
   "execution_count": null,
   "id": "61667de2-363a-47a4-83a3-dc5a893ddfd7",
   "metadata": {},
   "outputs": [],
   "source": []
  }
 ],
 "metadata": {
  "kernelspec": {
   "display_name": "Python 3 (ipykernel)",
   "language": "python",
   "name": "python3"
  },
  "language_info": {
   "codemirror_mode": {
    "name": "ipython",
    "version": 3
   },
   "file_extension": ".py",
   "mimetype": "text/x-python",
   "name": "python",
   "nbconvert_exporter": "python",
   "pygments_lexer": "ipython3",
   "version": "3.10.8"
  }
 },
 "nbformat": 4,
 "nbformat_minor": 5
}
